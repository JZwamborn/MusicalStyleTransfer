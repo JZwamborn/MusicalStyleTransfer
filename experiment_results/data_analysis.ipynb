{
 "cells": [
  {
   "cell_type": "code",
   "execution_count": 82,
   "id": "surprised-exhaust",
   "metadata": {},
   "outputs": [],
   "source": [
    "import pandas as pd\n",
    "import numpy as np"
   ]
  },
  {
   "cell_type": "markdown",
   "id": "dominant-option",
   "metadata": {},
   "source": [
    "##### The answers numbering\n",
    "- Strongly disagree -> 5\n",
    "- Strongly agree -> 1\n",
    "- Cello -> 1\n",
    "- Piano -> 2\n",
    "- Wind Quintet -> 3"
   ]
  },
  {
   "cell_type": "code",
   "execution_count": 83,
   "id": "established-universal",
   "metadata": {},
   "outputs": [],
   "source": [
    "# load the preprocessed data from the survey\n",
    "results_df = pd.read_csv('./clean_experiment.csv')\n",
    "results_df = results_df.drop(columns=['Unnamed: 0'])\n",
    "\n",
    "# load the csv from the general questionaire\n",
    "general_questions_df = pd.read_csv('./GeneralQuestionData.csv')"
   ]
  },
  {
   "cell_type": "code",
   "execution_count": 84,
   "id": "dependent-voice",
   "metadata": {},
   "outputs": [],
   "source": [
    "# separate the answers into dataframes containing the users in the general survey\n",
    "in_questionaire_df = pd.DataFrame()\n",
    "no_questionaire_df = pd.DataFrame()\n",
    "\n",
    "#MSI_scores = []\n",
    "\n",
    "for _, row in results_df.iterrows():\n",
    "\n",
    "    if row.author.lower() in general_questions_df.Nickname.tolist():\n",
    "        in_questionaire_df = in_questionaire_df.append(row)\n",
    "        #MSI_scores.append(general_questions_df[general_questions_df.Nickname == row.author].GoldsmithMSI.values[0])\n",
    "    else:\n",
    "        no_questionaire_df = in_questionaire_df.append(row)\n",
    "    \n",
    "#in_questionaire_df['MSI_score'] = MSI_scores        "
   ]
  },
  {
   "cell_type": "markdown",
   "id": "clinical-marine",
   "metadata": {},
   "source": [
    "##### Get the prediction accuracy for every group"
   ]
  },
  {
   "cell_type": "code",
   "execution_count": 85,
   "id": "statistical-dinner",
   "metadata": {},
   "outputs": [],
   "source": [
    "#transferred pieces\n",
    "transferred_df = results_df[(results_df['actual_player'] == 5) & (results_df['original_style'] != results_df['transferred_style'])]\n",
    "\n",
    "# self-transferred pieces\n",
    "self_transferred_df = results_df[(results_df['actual_player'] == 5) & (results_df['original_style'] == results_df['transferred_style'])]\n",
    "\n",
    "# original pieces\n",
    "original_df = results_df[results_df['actual_player'] == 1]"
   ]
  },
  {
   "cell_type": "code",
   "execution_count": 86,
   "id": "statistical-jungle",
   "metadata": {},
   "outputs": [
    {
     "name": "stdout",
     "output_type": "stream",
     "text": [
      "Transferred pieces prediction accuracy: 0.9\n",
      "Self-transferred pieces prediction accuracy: 0.9493670886075949\n",
      "Original pieces prediction accuracy: 0.9363636363636364\n"
     ]
    }
   ],
   "source": [
    "good_predictions_t = transferred_df[transferred_df['style_prediction'] == transferred_df['transferred_style']].count()[0]\n",
    "good_predictions_st = self_transferred_df[self_transferred_df['style_prediction'] == self_transferred_df['transferred_style']].count()[0]\n",
    "good_predictions_o = original_df[original_df['style_prediction'] == original_df['transferred_style']].count()[0]\n",
    "\n",
    "print(f'Transferred pieces prediction accuracy: {good_predictions_t/len(transferred_df)}')\n",
    "print(f'Self-transferred pieces prediction accuracy: {good_predictions_st/len(self_transferred_df)}')\n",
    "print(f'Original pieces prediction accuracy: {good_predictions_o/len(original_df)}')"
   ]
  },
  {
   "cell_type": "code",
   "execution_count": 97,
   "id": "extended-cycle",
   "metadata": {},
   "outputs": [
    {
     "data": {
      "text/html": [
       "<div>\n",
       "<style scoped>\n",
       "    .dataframe tbody tr th:only-of-type {\n",
       "        vertical-align: middle;\n",
       "    }\n",
       "\n",
       "    .dataframe tbody tr th {\n",
       "        vertical-align: top;\n",
       "    }\n",
       "\n",
       "    .dataframe thead th {\n",
       "        text-align: right;\n",
       "    }\n",
       "</style>\n",
       "<table border=\"1\" class=\"dataframe\">\n",
       "  <thead>\n",
       "    <tr style=\"text-align: right;\">\n",
       "      <th></th>\n",
       "      <th>author</th>\n",
       "      <th>sample</th>\n",
       "      <th>style_prediction</th>\n",
       "      <th>style_confidence</th>\n",
       "      <th>player_prediction</th>\n",
       "      <th>melody_rating</th>\n",
       "      <th>rhythm_rating</th>\n",
       "      <th>audio_rating</th>\n",
       "      <th>actual_player</th>\n",
       "      <th>original_style</th>\n",
       "      <th>transferred_style</th>\n",
       "      <th>correct_prediction</th>\n",
       "    </tr>\n",
       "  </thead>\n",
       "  <tbody>\n",
       "    <tr>\n",
       "      <th>0</th>\n",
       "      <td>kim13850</td>\n",
       "      <td>52</td>\n",
       "      <td>2</td>\n",
       "      <td>2</td>\n",
       "      <td>4</td>\n",
       "      <td>10</td>\n",
       "      <td>9</td>\n",
       "      <td>1</td>\n",
       "      <td>5</td>\n",
       "      <td>3</td>\n",
       "      <td>2</td>\n",
       "      <td>1</td>\n",
       "    </tr>\n",
       "    <tr>\n",
       "      <th>3</th>\n",
       "      <td>kim13850</td>\n",
       "      <td>49</td>\n",
       "      <td>1</td>\n",
       "      <td>5</td>\n",
       "      <td>5</td>\n",
       "      <td>0</td>\n",
       "      <td>0</td>\n",
       "      <td>0</td>\n",
       "      <td>5</td>\n",
       "      <td>3</td>\n",
       "      <td>1</td>\n",
       "      <td>1</td>\n",
       "    </tr>\n",
       "    <tr>\n",
       "      <th>6</th>\n",
       "      <td>kim13850</td>\n",
       "      <td>32</td>\n",
       "      <td>1</td>\n",
       "      <td>2</td>\n",
       "      <td>5</td>\n",
       "      <td>4</td>\n",
       "      <td>5</td>\n",
       "      <td>3</td>\n",
       "      <td>5</td>\n",
       "      <td>2</td>\n",
       "      <td>1</td>\n",
       "      <td>1</td>\n",
       "    </tr>\n",
       "    <tr>\n",
       "      <th>9</th>\n",
       "      <td>kim13850</td>\n",
       "      <td>23</td>\n",
       "      <td>2</td>\n",
       "      <td>1</td>\n",
       "      <td>5</td>\n",
       "      <td>8</td>\n",
       "      <td>4</td>\n",
       "      <td>3</td>\n",
       "      <td>5</td>\n",
       "      <td>1</td>\n",
       "      <td>2</td>\n",
       "      <td>1</td>\n",
       "    </tr>\n",
       "    <tr>\n",
       "      <th>10</th>\n",
       "      <td>ver368</td>\n",
       "      <td>42</td>\n",
       "      <td>2</td>\n",
       "      <td>4</td>\n",
       "      <td>2</td>\n",
       "      <td>4</td>\n",
       "      <td>6</td>\n",
       "      <td>5</td>\n",
       "      <td>5</td>\n",
       "      <td>2</td>\n",
       "      <td>3</td>\n",
       "      <td>0</td>\n",
       "    </tr>\n",
       "  </tbody>\n",
       "</table>\n",
       "</div>"
      ],
      "text/plain": [
       "      author  sample  style_prediction  style_confidence  player_prediction  \\\n",
       "0   kim13850      52                 2                 2                  4   \n",
       "3   kim13850      49                 1                 5                  5   \n",
       "6   kim13850      32                 1                 2                  5   \n",
       "9   kim13850      23                 2                 1                  5   \n",
       "10    ver368      42                 2                 4                  2   \n",
       "\n",
       "    melody_rating  rhythm_rating  audio_rating  actual_player  original_style  \\\n",
       "0              10              9             1              5               3   \n",
       "3               0              0             0              5               3   \n",
       "6               4              5             3              5               2   \n",
       "9               8              4             3              5               1   \n",
       "10              4              6             5              5               2   \n",
       "\n",
       "    transferred_style  correct_prediction  \n",
       "0                   2                   1  \n",
       "3                   1                   1  \n",
       "6                   1                   1  \n",
       "9                   2                   1  \n",
       "10                  3                   0  "
      ]
     },
     "execution_count": 97,
     "metadata": {},
     "output_type": "execute_result"
    }
   ],
   "source": [
    "transferred_df.head()"
   ]
  },
  {
   "cell_type": "code",
   "execution_count": 104,
   "id": "international-tracker",
   "metadata": {},
   "outputs": [
    {
     "name": "stdout",
     "output_type": "stream",
     "text": [
      "Transferred pieces player prediction:\n",
      "\t- mean = 3.533333333333333\n",
      "\t- standard deviation = 1.2684366044299307\n",
      "\n",
      "Transferred pieces player prediction:\n",
      "\t- mean = 2.278481012658228\n",
      "\t- standard deviation = 1.0970439168073856\n",
      "\n",
      "Transferred pieces player prediction:\n",
      "\t- mean = 1.4636363636363636\n",
      "\t- standard deviation = 0.8424219423428999\n",
      "\n"
     ]
    }
   ],
   "source": [
    "transf_mean = transferred_df['player_prediction'].mean()\n",
    "transf_std = transferred_df['player_prediction'].std()\n",
    "\n",
    "self_transf_mean = self_transferred_df['player_prediction'].mean()\n",
    "self_transf_std = self_transferred_df['player_prediction'].std()\n",
    "\n",
    "orig_mean = original_df['player_prediction'].mean()\n",
    "orig_std = original_df['player_prediction'].std()\n",
    "\n",
    "print(f'Transferred pieces player prediction:\\n\\t- mean = {transf_mean}\\n\\t- standard deviation = {transf_std}\\n')\n",
    "print(f'Transferred pieces player prediction:\\n\\t- mean = {self_transf_mean}\\n\\t- standard deviation = {self_transf_std}\\n')\n",
    "print(f'Transferred pieces player prediction:\\n\\t- mean = {orig_mean}\\n\\t- standard deviation = {orig_std}\\n')"
   ]
  },
  {
   "cell_type": "code",
   "execution_count": null,
   "id": "liable-michigan",
   "metadata": {},
   "outputs": [],
   "source": []
  }
 ],
 "metadata": {
  "kernelspec": {
   "display_name": "Python 3",
   "language": "python",
   "name": "python3"
  },
  "language_info": {
   "codemirror_mode": {
    "name": "ipython",
    "version": 3
   },
   "file_extension": ".py",
   "mimetype": "text/x-python",
   "name": "python",
   "nbconvert_exporter": "python",
   "pygments_lexer": "ipython3",
   "version": "3.8.8"
  }
 },
 "nbformat": 4,
 "nbformat_minor": 5
}
