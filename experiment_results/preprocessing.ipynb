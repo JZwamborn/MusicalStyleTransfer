{
 "cells": [
  {
   "cell_type": "code",
   "execution_count": 38,
   "id": "palestinian-sunrise",
   "metadata": {},
   "outputs": [],
   "source": [
    "import numpy as np\n",
    "import pandas as pd"
   ]
  },
  {
   "cell_type": "markdown",
   "id": "french-hayes",
   "metadata": {},
   "source": [
    "##### The answers numbering\n",
    "- Strongly disagree -> 5\n",
    "- Strongly agree -> 1\n",
    "- Cello -> 1\n",
    "- Piano -> 2\n",
    "- Wind Quintet -> 3"
   ]
  },
  {
   "cell_type": "code",
   "execution_count": 39,
   "id": "musical-promise",
   "metadata": {},
   "outputs": [],
   "source": [
    "# first set the right answers to the survey\n",
    "actual_answers = np.zeros([60, 3], dtype='object')\n",
    "\n",
    "for i in range(0, 59):\n",
    "    \n",
    "    if i <= 4:\n",
    "        actual_answers[i] = ('1', '1', '1')\n",
    "    elif i <= 9:\n",
    "        actual_answers[i] = ('1', '2', '2')\n",
    "    elif i <= 14:\n",
    "        actual_answers[i] = ('1', '3', '3')\n",
    "    elif i <= 19:\n",
    "        actual_answers[i] = ('5', '1', '1')\n",
    "    elif i <= 24:\n",
    "        actual_answers[i] = ('5', '1', '2')\n",
    "    elif i <= 29:\n",
    "        actual_answers[i] = ('5', '1', '3')\n",
    "    elif i <= 34:\n",
    "        actual_answers[i] = ('5', '2', '1')\n",
    "    elif i <= 39:\n",
    "        actual_answers[i] = ('5', '2', '2')\n",
    "    elif i <= 44:\n",
    "        actual_answers[i] = ('5', '2', '3')\n",
    "    elif i <= 49:\n",
    "        actual_answers[i] = ('5', '3', '1')\n",
    "    elif i <= 54:\n",
    "        actual_answers[i] = ('5', '3', '2')\n",
    "    elif i <= 59:\n",
    "        actual_answers[i] = ('5', '3', '3')"
   ]
  },
  {
   "cell_type": "code",
   "execution_count": 40,
   "id": "committed-infrastructure",
   "metadata": {},
   "outputs": [],
   "source": [
    "results_df = pd.read_csv('./survey_results.csv')"
   ]
  },
  {
   "cell_type": "code",
   "execution_count": 41,
   "id": "searching-banner",
   "metadata": {},
   "outputs": [],
   "source": [
    "# Drop the first 2 rows containing some column names and questions \n",
    "results_df = results_df.drop([0,1])"
   ]
  },
  {
   "cell_type": "code",
   "execution_count": 42,
   "id": "renewable-wagon",
   "metadata": {},
   "outputs": [],
   "source": [
    "results_df['Finished'] = pd.to_numeric(results_df.Finished)"
   ]
  },
  {
   "cell_type": "code",
   "execution_count": 43,
   "id": "visible-burlington",
   "metadata": {},
   "outputs": [],
   "source": [
    "# get only the finished surveys\n",
    "results_df = results_df[results_df.Finished == 1]"
   ]
  },
  {
   "cell_type": "code",
   "execution_count": 44,
   "id": "blind-fruit",
   "metadata": {},
   "outputs": [],
   "source": [
    "# drop the useless columns (the second boundary number is excluded)\n",
    "results_df = results_df.drop(results_df.iloc[:, 0:17], axis=1) \n",
    "\n",
    "# drop the results of the introduction (not sure tho)\n",
    "results_df = results_df.drop(results_df.iloc[:, 1:7], axis=1) "
   ]
  },
  {
   "cell_type": "markdown",
   "id": "herbal-membership",
   "metadata": {},
   "source": [
    "##### Every block has 7 answers\n",
    "0. Random number\n",
    "1. Style\n",
    "2. confident with answers\n",
    "3. Human or ai\n",
    "4. melody\n",
    "5. rhythm\n",
    "6. raw audio\n",
    "\n",
    "We will store those in an matrix of width 7, where the first position contains the author"
   ]
  },
  {
   "cell_type": "code",
   "execution_count": 45,
   "id": "automatic-satin",
   "metadata": {},
   "outputs": [],
   "source": [
    "all_results = []\n",
    "authors = []\n",
    "\n",
    "for i in range(0, 7):\n",
    "    all_results.append([])\n",
    "\n",
    "for _, row in results_df.iterrows():\n",
    "    \n",
    "    # if there aren't any missing values\n",
    "    if not row.isnull().values.any():\n",
    "    \n",
    "        for j in range(0, 10):\n",
    "            authors.append(row[0])\n",
    "\n",
    "        for i, col in enumerate(row[1:]):\n",
    "            all_results[i % 7].append(col)"
   ]
  },
  {
   "cell_type": "code",
   "execution_count": 46,
   "id": "silver-magnitude",
   "metadata": {},
   "outputs": [],
   "source": [
    "actual_player, original_style, transferred_style = [[] for i in range(3)]\n",
    "\n",
    "for sample in all_results[0]:\n",
    "    actual_player.append(actual_answers[int(sample)][0])\n",
    "    original_style.append(actual_answers[int(sample)][1])\n",
    "    transferred_style.append(actual_answers[int(sample)][2])"
   ]
  },
  {
   "cell_type": "code",
   "execution_count": 47,
   "id": "mental-subcommittee",
   "metadata": {},
   "outputs": [],
   "source": [
    "data = {\n",
    "    'author': authors,\n",
    "    'sample': all_results[0],\n",
    "    'style_prediction': all_results[1],\n",
    "    'style_confidence': all_results[2],\n",
    "    'player_prediction': all_results[3],\n",
    "    'melody_rating': all_results[4],\n",
    "    'rhythm_rating': all_results[5],\n",
    "    'audio_rating': all_results[6],\n",
    "    'actual_player': actual_player,\n",
    "    'original_style': original_style,\n",
    "    'transferred_style': transferred_style}    \n",
    "\n",
    "final = pd.DataFrame(data,) "
   ]
  },
  {
   "cell_type": "code",
   "execution_count": 49,
   "id": "statutory-advertiser",
   "metadata": {},
   "outputs": [],
   "source": [
    "final['correct_prediction'] = final.apply(lambda row: 1 if row['style_prediction'] == row['transferred_style'] else 0, axis=1)"
   ]
  },
  {
   "cell_type": "code",
   "execution_count": 50,
   "id": "incident-start",
   "metadata": {},
   "outputs": [],
   "source": [
    "final.to_csv('clean_experiment.csv')"
   ]
  }
 ],
 "metadata": {
  "kernelspec": {
   "display_name": "Python 3",
   "language": "python",
   "name": "python3"
  },
  "language_info": {
   "codemirror_mode": {
    "name": "ipython",
    "version": 3
   },
   "file_extension": ".py",
   "mimetype": "text/x-python",
   "name": "python",
   "nbconvert_exporter": "python",
   "pygments_lexer": "ipython3",
   "version": "3.8.8"
  }
 },
 "nbformat": 4,
 "nbformat_minor": 5
}
