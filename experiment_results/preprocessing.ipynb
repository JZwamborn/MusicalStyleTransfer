{
 "cells": [
  {
   "cell_type": "code",
   "execution_count": 64,
   "id": "amateur-lebanon",
   "metadata": {},
   "outputs": [],
   "source": [
    "import numpy as np\n",
    "import pandas as pd"
   ]
  },
  {
   "cell_type": "code",
   "execution_count": 71,
   "id": "dying-calgary",
   "metadata": {},
   "outputs": [],
   "source": [
    "# first set the right answers to the survey\n",
    "actual_answers = np.zeros([60, 3], dtype='object')\n",
    "\n",
    "for i in range(0, 59):\n",
    "    \n",
    "    if i <= 4:\n",
    "        actual_answers[i] = ('human', 'cello', 'cello')\n",
    "    elif i <= 9:\n",
    "        actual_answers[i] = ('human', 'piano', 'piano')\n",
    "    elif i <= 14:\n",
    "        actual_answers[i] = ('human', 'wind', 'wind')\n",
    "    elif i <= 19:\n",
    "        actual_answers[i] = ('ai', 'cello', 'cello')\n",
    "    elif i <= 24:\n",
    "        actual_answers[i] = ('ai', 'cello', 'piano')\n",
    "    elif i <= 29:\n",
    "        actual_answers[i] = ('ai', 'cello', 'wind')\n",
    "    elif i <= 34:\n",
    "        actual_answers[i] = ('ai', 'piano', 'cello')\n",
    "    elif i <= 39:\n",
    "        actual_answers[i] = ('ai', 'piano', 'piano')\n",
    "    elif i <= 44:\n",
    "        actual_answers[i] = ('ai', 'piano', 'wind')\n",
    "    elif i <= 49:\n",
    "        actual_answers[i] = ('ai', 'wind', 'cello')\n",
    "    elif i <= 54:\n",
    "        actual_answers[i] = ('ai', 'wind', 'piano')\n",
    "    elif i <= 59:\n",
    "        actual_answers[i] = ('ai', 'wind', 'wind')"
   ]
  },
  {
   "cell_type": "markdown",
   "id": "approved-governor",
   "metadata": {},
   "source": [
    "##### The answers numbering\n",
    "- Strongly disagree -> 5\n",
    "- Strongly agree -> 1\n",
    "- Cello -> 1\n",
    "- Piano -> 2\n",
    "- Wind Quintet -> 3"
   ]
  },
  {
   "cell_type": "code",
   "execution_count": 82,
   "id": "affected-support",
   "metadata": {},
   "outputs": [],
   "source": [
    "results_df = pd.read_csv('./survey_results.csv')"
   ]
  },
  {
   "cell_type": "code",
   "execution_count": 83,
   "id": "reliable-drilling",
   "metadata": {},
   "outputs": [],
   "source": [
    "# Drop the first 2 rows containing some column names and questions \n",
    "results_df = results_df.drop([0,1])"
   ]
  },
  {
   "cell_type": "code",
   "execution_count": 84,
   "id": "applicable-torture",
   "metadata": {},
   "outputs": [],
   "source": [
    "results_df['Finished'] = pd.to_numeric(results_df.Finished)"
   ]
  },
  {
   "cell_type": "code",
   "execution_count": 85,
   "id": "cloudy-doctrine",
   "metadata": {},
   "outputs": [],
   "source": [
    "# get only the finished surveys\n",
    "results_df = results_df[results_df.Finished == 1]"
   ]
  },
  {
   "cell_type": "code",
   "execution_count": 86,
   "id": "athletic-equality",
   "metadata": {},
   "outputs": [],
   "source": [
    "# drop the useless columns (the second boundary number is excluded)\n",
    "results_df = results_df.drop(results_df.iloc[:, 0:17], axis=1) \n",
    "\n",
    "# drop the results of the introduction (not sure tho)\n",
    "results_df = results_df.drop(results_df.iloc[:, 1:7], axis=1) "
   ]
  },
  {
   "cell_type": "markdown",
   "id": "german-fountain",
   "metadata": {},
   "source": [
    "##### Every block has 7 answers\n",
    "0. Random number\n",
    "1. Style\n",
    "2. confident with answers\n",
    "3. Human or ai\n",
    "4. melody\n",
    "5. rhythm\n",
    "6. raw audio\n",
    "\n",
    "We will store those in an matrix of width 8, where the first position contains the author"
   ]
  },
  {
   "cell_type": "code",
   "execution_count": 158,
   "id": "balanced-invasion",
   "metadata": {},
   "outputs": [],
   "source": [
    "all_results = []\n",
    "authors = []\n",
    "\n",
    "for i in range(0, 7):\n",
    "    all_results.append([])\n",
    "\n",
    "for _, row in results_df.iterrows():\n",
    "    \n",
    "    for j in range(0, 10):\n",
    "        authors.append(row[0])\n",
    "    \n",
    "    for i, col in enumerate(row[1:]):\n",
    "        all_results[i % 7].append(col)"
   ]
  },
  {
   "cell_type": "code",
   "execution_count": 162,
   "id": "continued-taxation",
   "metadata": {},
   "outputs": [],
   "source": [
    "data = {\n",
    "    'author': authors,\n",
    "    'sample': all_results[0],\n",
    "    'style': all_results[1],\n",
    "    'confidence': all_results[2],\n",
    "    'interpreter': all_results[3],\n",
    "    'melody': all_results[4],\n",
    "    'rhythm': all_results[5],\n",
    "    'audio': all_results[6]}\n",
    "final = pd.DataFrame(data,) "
   ]
  },
  {
   "cell_type": "code",
   "execution_count": 164,
   "id": "bigger-portuguese",
   "metadata": {},
   "outputs": [],
   "source": [
    "final.to_csv('clean_experiment.csv')"
   ]
  }
 ],
 "metadata": {
  "kernelspec": {
   "display_name": "Python 3",
   "language": "python",
   "name": "python3"
  },
  "language_info": {
   "codemirror_mode": {
    "name": "ipython",
    "version": 3
   },
   "file_extension": ".py",
   "mimetype": "text/x-python",
   "name": "python",
   "nbconvert_exporter": "python",
   "pygments_lexer": "ipython3",
   "version": "3.8.8"
  }
 },
 "nbformat": 4,
 "nbformat_minor": 5
}
